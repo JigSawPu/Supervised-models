{
 "cells": [
  {
   "cell_type": "code",
   "execution_count": 1,
   "metadata": {},
   "outputs": [
    {
     "name": "stderr",
     "output_type": "stream",
     "text": [
      "Intel(R) Extension for Scikit-learn* enabled (https://github.com/intel/scikit-learn-intelex)\n"
     ]
    }
   ],
   "source": [
    "from sklearnex import patch_sklearn\n",
    "patch_sklearn()"
   ]
  },
  {
   "cell_type": "code",
   "execution_count": 2,
   "metadata": {},
   "outputs": [],
   "source": [
    "import pandas as pd\n",
    "import numpy as np\n",
    "import matplotlib.pyplot as plt"
   ]
  },
  {
   "cell_type": "code",
   "execution_count": 3,
   "metadata": {},
   "outputs": [],
   "source": [
    "import os\n",
    "os.chdir('/home/arya/Desktop/handson_ml_study/')"
   ]
  },
  {
   "cell_type": "code",
   "execution_count": 4,
   "metadata": {},
   "outputs": [],
   "source": [
    "#getting the data\n",
    "housing_data = pd.read_csv('./handson-ml2-master/datasets/housing/housing.csv')\n",
    "housing_data = housing_data\n",
    "housing_data[\"income_cat\"] = pd.cut(housing_data[\"median_income\"], bins=[0., 1.5, 3.0, 4.5, 6., np.inf], labels=[1, 2, 3, 4, 5])"
   ]
  },
  {
   "cell_type": "code",
   "execution_count": 5,
   "metadata": {},
   "outputs": [],
   "source": [
    "#stratified classified train test split\n",
    "from sklearn.model_selection import StratifiedShuffleSplit\n",
    "\n",
    "strat_split = StratifiedShuffleSplit(n_splits=1, test_size=0.2, random_state=32)\n",
    "for train_index, test_index in strat_split.split(housing_data, housing_data[\"income_cat\"]):\n",
    "        strat_train_set = housing_data.loc[train_index]\n",
    "        strat_test_set = housing_data.loc[test_index]\n",
    "\n",
    "\n",
    "for set_ in (strat_train_set, strat_test_set):\n",
    "    set_.drop(\"income_cat\", axis=1, inplace=True)"
   ]
  },
  {
   "cell_type": "code",
   "execution_count": 6,
   "metadata": {},
   "outputs": [
    {
     "data": {
      "text/html": [
       "<div>\n",
       "<style scoped>\n",
       "    .dataframe tbody tr th:only-of-type {\n",
       "        vertical-align: middle;\n",
       "    }\n",
       "\n",
       "    .dataframe tbody tr th {\n",
       "        vertical-align: top;\n",
       "    }\n",
       "\n",
       "    .dataframe thead th {\n",
       "        text-align: right;\n",
       "    }\n",
       "</style>\n",
       "<table border=\"1\" class=\"dataframe\">\n",
       "  <thead>\n",
       "    <tr style=\"text-align: right;\">\n",
       "      <th></th>\n",
       "      <th>longitude</th>\n",
       "      <th>latitude</th>\n",
       "      <th>housing_median_age</th>\n",
       "      <th>total_rooms</th>\n",
       "      <th>total_bedrooms</th>\n",
       "      <th>population</th>\n",
       "      <th>households</th>\n",
       "      <th>median_income</th>\n",
       "      <th>median_house_value</th>\n",
       "      <th>ocean_proximity</th>\n",
       "    </tr>\n",
       "  </thead>\n",
       "  <tbody>\n",
       "    <tr>\n",
       "      <th>5242</th>\n",
       "      <td>-118.40</td>\n",
       "      <td>34.11</td>\n",
       "      <td>32.0</td>\n",
       "      <td>5578.0</td>\n",
       "      <td>753.0</td>\n",
       "      <td>1567.0</td>\n",
       "      <td>697.0</td>\n",
       "      <td>15.0001</td>\n",
       "      <td>500001.0</td>\n",
       "      <td>&lt;1H OCEAN</td>\n",
       "    </tr>\n",
       "    <tr>\n",
       "      <th>18762</th>\n",
       "      <td>-122.25</td>\n",
       "      <td>40.66</td>\n",
       "      <td>15.0</td>\n",
       "      <td>2771.0</td>\n",
       "      <td>546.0</td>\n",
       "      <td>1423.0</td>\n",
       "      <td>505.0</td>\n",
       "      <td>3.6413</td>\n",
       "      <td>108500.0</td>\n",
       "      <td>INLAND</td>\n",
       "    </tr>\n",
       "    <tr>\n",
       "      <th>10729</th>\n",
       "      <td>-117.87</td>\n",
       "      <td>33.60</td>\n",
       "      <td>20.0</td>\n",
       "      <td>3212.0</td>\n",
       "      <td>572.0</td>\n",
       "      <td>1064.0</td>\n",
       "      <td>526.0</td>\n",
       "      <td>6.6155</td>\n",
       "      <td>500001.0</td>\n",
       "      <td>&lt;1H OCEAN</td>\n",
       "    </tr>\n",
       "    <tr>\n",
       "      <th>17547</th>\n",
       "      <td>-121.88</td>\n",
       "      <td>37.34</td>\n",
       "      <td>52.0</td>\n",
       "      <td>867.0</td>\n",
       "      <td>232.0</td>\n",
       "      <td>1264.0</td>\n",
       "      <td>227.0</td>\n",
       "      <td>2.6312</td>\n",
       "      <td>302900.0</td>\n",
       "      <td>&lt;1H OCEAN</td>\n",
       "    </tr>\n",
       "    <tr>\n",
       "      <th>3337</th>\n",
       "      <td>-122.51</td>\n",
       "      <td>38.76</td>\n",
       "      <td>9.0</td>\n",
       "      <td>2589.0</td>\n",
       "      <td>482.0</td>\n",
       "      <td>1050.0</td>\n",
       "      <td>374.0</td>\n",
       "      <td>4.0435</td>\n",
       "      <td>132600.0</td>\n",
       "      <td>INLAND</td>\n",
       "    </tr>\n",
       "    <tr>\n",
       "      <th>...</th>\n",
       "      <td>...</td>\n",
       "      <td>...</td>\n",
       "      <td>...</td>\n",
       "      <td>...</td>\n",
       "      <td>...</td>\n",
       "      <td>...</td>\n",
       "      <td>...</td>\n",
       "      <td>...</td>\n",
       "      <td>...</td>\n",
       "      <td>...</td>\n",
       "    </tr>\n",
       "    <tr>\n",
       "      <th>5043</th>\n",
       "      <td>-118.33</td>\n",
       "      <td>33.98</td>\n",
       "      <td>30.0</td>\n",
       "      <td>3112.0</td>\n",
       "      <td>931.0</td>\n",
       "      <td>2739.0</td>\n",
       "      <td>841.0</td>\n",
       "      <td>1.6531</td>\n",
       "      <td>118500.0</td>\n",
       "      <td>&lt;1H OCEAN</td>\n",
       "    </tr>\n",
       "    <tr>\n",
       "      <th>7931</th>\n",
       "      <td>-118.06</td>\n",
       "      <td>33.84</td>\n",
       "      <td>26.0</td>\n",
       "      <td>6960.0</td>\n",
       "      <td>1454.0</td>\n",
       "      <td>4367.0</td>\n",
       "      <td>1437.0</td>\n",
       "      <td>4.7953</td>\n",
       "      <td>210900.0</td>\n",
       "      <td>&lt;1H OCEAN</td>\n",
       "    </tr>\n",
       "    <tr>\n",
       "      <th>7763</th>\n",
       "      <td>-118.10</td>\n",
       "      <td>33.91</td>\n",
       "      <td>36.0</td>\n",
       "      <td>726.0</td>\n",
       "      <td>NaN</td>\n",
       "      <td>490.0</td>\n",
       "      <td>130.0</td>\n",
       "      <td>3.6389</td>\n",
       "      <td>167600.0</td>\n",
       "      <td>&lt;1H OCEAN</td>\n",
       "    </tr>\n",
       "    <tr>\n",
       "      <th>19433</th>\n",
       "      <td>-121.04</td>\n",
       "      <td>37.65</td>\n",
       "      <td>8.0</td>\n",
       "      <td>1959.0</td>\n",
       "      <td>379.0</td>\n",
       "      <td>995.0</td>\n",
       "      <td>365.0</td>\n",
       "      <td>3.3567</td>\n",
       "      <td>129100.0</td>\n",
       "      <td>INLAND</td>\n",
       "    </tr>\n",
       "    <tr>\n",
       "      <th>20421</th>\n",
       "      <td>-118.83</td>\n",
       "      <td>34.17</td>\n",
       "      <td>17.0</td>\n",
       "      <td>4668.0</td>\n",
       "      <td>628.0</td>\n",
       "      <td>1917.0</td>\n",
       "      <td>624.0</td>\n",
       "      <td>8.1397</td>\n",
       "      <td>353900.0</td>\n",
       "      <td>&lt;1H OCEAN</td>\n",
       "    </tr>\n",
       "  </tbody>\n",
       "</table>\n",
       "<p>16512 rows × 10 columns</p>\n",
       "</div>"
      ],
      "text/plain": [
       "       longitude  latitude  housing_median_age  total_rooms  total_bedrooms  \\\n",
       "5242     -118.40     34.11                32.0       5578.0           753.0   \n",
       "18762    -122.25     40.66                15.0       2771.0           546.0   \n",
       "10729    -117.87     33.60                20.0       3212.0           572.0   \n",
       "17547    -121.88     37.34                52.0        867.0           232.0   \n",
       "3337     -122.51     38.76                 9.0       2589.0           482.0   \n",
       "...          ...       ...                 ...          ...             ...   \n",
       "5043     -118.33     33.98                30.0       3112.0           931.0   \n",
       "7931     -118.06     33.84                26.0       6960.0          1454.0   \n",
       "7763     -118.10     33.91                36.0        726.0             NaN   \n",
       "19433    -121.04     37.65                 8.0       1959.0           379.0   \n",
       "20421    -118.83     34.17                17.0       4668.0           628.0   \n",
       "\n",
       "       population  households  median_income  median_house_value  \\\n",
       "5242       1567.0       697.0        15.0001            500001.0   \n",
       "18762      1423.0       505.0         3.6413            108500.0   \n",
       "10729      1064.0       526.0         6.6155            500001.0   \n",
       "17547      1264.0       227.0         2.6312            302900.0   \n",
       "3337       1050.0       374.0         4.0435            132600.0   \n",
       "...           ...         ...            ...                 ...   \n",
       "5043       2739.0       841.0         1.6531            118500.0   \n",
       "7931       4367.0      1437.0         4.7953            210900.0   \n",
       "7763        490.0       130.0         3.6389            167600.0   \n",
       "19433       995.0       365.0         3.3567            129100.0   \n",
       "20421      1917.0       624.0         8.1397            353900.0   \n",
       "\n",
       "      ocean_proximity  \n",
       "5242        <1H OCEAN  \n",
       "18762          INLAND  \n",
       "10729       <1H OCEAN  \n",
       "17547       <1H OCEAN  \n",
       "3337           INLAND  \n",
       "...               ...  \n",
       "5043        <1H OCEAN  \n",
       "7931        <1H OCEAN  \n",
       "7763        <1H OCEAN  \n",
       "19433          INLAND  \n",
       "20421       <1H OCEAN  \n",
       "\n",
       "[16512 rows x 10 columns]"
      ]
     },
     "execution_count": 6,
     "metadata": {},
     "output_type": "execute_result"
    }
   ],
   "source": [
    "strat_train_set"
   ]
  },
  {
   "cell_type": "code",
   "execution_count": 7,
   "metadata": {},
   "outputs": [
    {
     "data": {
      "text/plain": [
       "median_house_value          1.000000\n",
       "median_income               0.684216\n",
       "rooms_per_household         0.166727\n",
       "total_rooms                 0.133887\n",
       "housing_median_age          0.111445\n",
       "households                  0.066193\n",
       "total_bedrooms              0.050271\n",
       "population                 -0.026870\n",
       "population_per_household   -0.033058\n",
       "longitude                  -0.043955\n",
       "latitude                   -0.145869\n",
       "bedrooms_per_room          -0.250116\n",
       "Name: median_house_value, dtype: float64"
      ]
     },
     "execution_count": 7,
     "metadata": {},
     "output_type": "execute_result"
    }
   ],
   "source": [
    "#studying correlations between attributes and their combinations\n",
    "housing_explore = strat_train_set.copy()\n",
    "corr_matrix = housing_explore.corr()\n",
    "housing_explore[\"rooms_per_household\"] = housing_explore[\"total_rooms\"]/housing_explore[\"households\"]\n",
    "housing_explore[\"bedrooms_per_room\"] = housing_explore[\"total_bedrooms\"]/housing_explore[\"total_rooms\"]\n",
    "housing_explore[\"population_per_household\"]=housing_explore[\"population\"]/housing_explore[\"households\"]\n",
    "corr_matrix = housing_explore.corr()\n",
    "corr_matrix['median_house_value'].sort_values(ascending=False)\n",
    "\n",
    "#this is just exploring these didn't ge"
   ]
  },
  {
   "cell_type": "code",
   "execution_count": 8,
   "metadata": {},
   "outputs": [],
   "source": [
    "#encoding categorical to numerical\n",
    "# from sklearn.preprocessing import OrdinalEncoder\n",
    "from sklearn.preprocessing import OneHotEncoder\n",
    "one_hot = OneHotEncoder()\n",
    "\n",
    "ocean_proxi = one_hot.fit_transform(housing_explore[['ocean_proximity']])\n"
   ]
  },
  {
   "cell_type": "code",
   "execution_count": 9,
   "metadata": {},
   "outputs": [],
   "source": [
    "#fixn gmissin gvalues\n",
    "from sklearn.impute import SimpleImputer\n",
    "imputer = SimpleImputer(strategy=\"median\")\n",
    "\n",
    "housing_explore_labels = housing_explore['median_house_value'].copy()\n",
    "housing_explore = housing_explore.drop('median_house_value', axis = 1)\n",
    "housing_num = housing_explore.drop(\"ocean_proximity\", axis=1)\n",
    "imputer.fit(housing_num)\n",
    "X = imputer.transform(housing_num)\n",
    "housing_explore = pd.DataFrame(X, columns=housing_num.columns)"
   ]
  },
  {
   "cell_type": "code",
   "execution_count": 10,
   "metadata": {},
   "outputs": [
    {
     "data": {
      "text/plain": [
       "[array(['<1H OCEAN', 'INLAND', 'ISLAND', 'NEAR BAY', 'NEAR OCEAN'],\n",
       "       dtype=object)]"
      ]
     },
     "execution_count": 10,
     "metadata": {},
     "output_type": "execute_result"
    }
   ],
   "source": [
    "one_hot.categories_"
   ]
  },
  {
   "cell_type": "code",
   "execution_count": 11,
   "metadata": {},
   "outputs": [
    {
     "data": {
      "text/html": [
       "<div>\n",
       "<style scoped>\n",
       "    .dataframe tbody tr th:only-of-type {\n",
       "        vertical-align: middle;\n",
       "    }\n",
       "\n",
       "    .dataframe tbody tr th {\n",
       "        vertical-align: top;\n",
       "    }\n",
       "\n",
       "    .dataframe thead th {\n",
       "        text-align: right;\n",
       "    }\n",
       "</style>\n",
       "<table border=\"1\" class=\"dataframe\">\n",
       "  <thead>\n",
       "    <tr style=\"text-align: right;\">\n",
       "      <th></th>\n",
       "      <th>longitude</th>\n",
       "      <th>latitude</th>\n",
       "      <th>housing_median_age</th>\n",
       "      <th>total_rooms</th>\n",
       "      <th>total_bedrooms</th>\n",
       "      <th>population</th>\n",
       "      <th>households</th>\n",
       "      <th>median_income</th>\n",
       "      <th>rooms_per_household</th>\n",
       "      <th>bedrooms_per_room</th>\n",
       "      <th>population_per_household</th>\n",
       "    </tr>\n",
       "  </thead>\n",
       "  <tbody>\n",
       "    <tr>\n",
       "      <th>0</th>\n",
       "      <td>-118.40</td>\n",
       "      <td>34.11</td>\n",
       "      <td>32.0</td>\n",
       "      <td>5578.0</td>\n",
       "      <td>753.0</td>\n",
       "      <td>1567.0</td>\n",
       "      <td>697.0</td>\n",
       "      <td>15.0001</td>\n",
       "      <td>8.002869</td>\n",
       "      <td>0.134995</td>\n",
       "      <td>2.248207</td>\n",
       "    </tr>\n",
       "    <tr>\n",
       "      <th>1</th>\n",
       "      <td>-122.25</td>\n",
       "      <td>40.66</td>\n",
       "      <td>15.0</td>\n",
       "      <td>2771.0</td>\n",
       "      <td>546.0</td>\n",
       "      <td>1423.0</td>\n",
       "      <td>505.0</td>\n",
       "      <td>3.6413</td>\n",
       "      <td>5.487129</td>\n",
       "      <td>0.197041</td>\n",
       "      <td>2.817822</td>\n",
       "    </tr>\n",
       "    <tr>\n",
       "      <th>2</th>\n",
       "      <td>-117.87</td>\n",
       "      <td>33.60</td>\n",
       "      <td>20.0</td>\n",
       "      <td>3212.0</td>\n",
       "      <td>572.0</td>\n",
       "      <td>1064.0</td>\n",
       "      <td>526.0</td>\n",
       "      <td>6.6155</td>\n",
       "      <td>6.106464</td>\n",
       "      <td>0.178082</td>\n",
       "      <td>2.022814</td>\n",
       "    </tr>\n",
       "    <tr>\n",
       "      <th>3</th>\n",
       "      <td>-121.88</td>\n",
       "      <td>37.34</td>\n",
       "      <td>52.0</td>\n",
       "      <td>867.0</td>\n",
       "      <td>232.0</td>\n",
       "      <td>1264.0</td>\n",
       "      <td>227.0</td>\n",
       "      <td>2.6312</td>\n",
       "      <td>3.819383</td>\n",
       "      <td>0.267589</td>\n",
       "      <td>5.568282</td>\n",
       "    </tr>\n",
       "    <tr>\n",
       "      <th>4</th>\n",
       "      <td>-122.51</td>\n",
       "      <td>38.76</td>\n",
       "      <td>9.0</td>\n",
       "      <td>2589.0</td>\n",
       "      <td>482.0</td>\n",
       "      <td>1050.0</td>\n",
       "      <td>374.0</td>\n",
       "      <td>4.0435</td>\n",
       "      <td>6.922460</td>\n",
       "      <td>0.186172</td>\n",
       "      <td>2.807487</td>\n",
       "    </tr>\n",
       "    <tr>\n",
       "      <th>...</th>\n",
       "      <td>...</td>\n",
       "      <td>...</td>\n",
       "      <td>...</td>\n",
       "      <td>...</td>\n",
       "      <td>...</td>\n",
       "      <td>...</td>\n",
       "      <td>...</td>\n",
       "      <td>...</td>\n",
       "      <td>...</td>\n",
       "      <td>...</td>\n",
       "      <td>...</td>\n",
       "    </tr>\n",
       "    <tr>\n",
       "      <th>16507</th>\n",
       "      <td>-118.33</td>\n",
       "      <td>33.98</td>\n",
       "      <td>30.0</td>\n",
       "      <td>3112.0</td>\n",
       "      <td>931.0</td>\n",
       "      <td>2739.0</td>\n",
       "      <td>841.0</td>\n",
       "      <td>1.6531</td>\n",
       "      <td>3.700357</td>\n",
       "      <td>0.299165</td>\n",
       "      <td>3.256837</td>\n",
       "    </tr>\n",
       "    <tr>\n",
       "      <th>16508</th>\n",
       "      <td>-118.06</td>\n",
       "      <td>33.84</td>\n",
       "      <td>26.0</td>\n",
       "      <td>6960.0</td>\n",
       "      <td>1454.0</td>\n",
       "      <td>4367.0</td>\n",
       "      <td>1437.0</td>\n",
       "      <td>4.7953</td>\n",
       "      <td>4.843424</td>\n",
       "      <td>0.208908</td>\n",
       "      <td>3.038970</td>\n",
       "    </tr>\n",
       "    <tr>\n",
       "      <th>16509</th>\n",
       "      <td>-118.10</td>\n",
       "      <td>33.91</td>\n",
       "      <td>36.0</td>\n",
       "      <td>726.0</td>\n",
       "      <td>436.0</td>\n",
       "      <td>490.0</td>\n",
       "      <td>130.0</td>\n",
       "      <td>3.6389</td>\n",
       "      <td>5.584615</td>\n",
       "      <td>0.203028</td>\n",
       "      <td>3.769231</td>\n",
       "    </tr>\n",
       "    <tr>\n",
       "      <th>16510</th>\n",
       "      <td>-121.04</td>\n",
       "      <td>37.65</td>\n",
       "      <td>8.0</td>\n",
       "      <td>1959.0</td>\n",
       "      <td>379.0</td>\n",
       "      <td>995.0</td>\n",
       "      <td>365.0</td>\n",
       "      <td>3.3567</td>\n",
       "      <td>5.367123</td>\n",
       "      <td>0.193466</td>\n",
       "      <td>2.726027</td>\n",
       "    </tr>\n",
       "    <tr>\n",
       "      <th>16511</th>\n",
       "      <td>-118.83</td>\n",
       "      <td>34.17</td>\n",
       "      <td>17.0</td>\n",
       "      <td>4668.0</td>\n",
       "      <td>628.0</td>\n",
       "      <td>1917.0</td>\n",
       "      <td>624.0</td>\n",
       "      <td>8.1397</td>\n",
       "      <td>7.480769</td>\n",
       "      <td>0.134533</td>\n",
       "      <td>3.072115</td>\n",
       "    </tr>\n",
       "  </tbody>\n",
       "</table>\n",
       "<p>16512 rows × 11 columns</p>\n",
       "</div>"
      ],
      "text/plain": [
       "       longitude  latitude  housing_median_age  total_rooms  total_bedrooms  \\\n",
       "0        -118.40     34.11                32.0       5578.0           753.0   \n",
       "1        -122.25     40.66                15.0       2771.0           546.0   \n",
       "2        -117.87     33.60                20.0       3212.0           572.0   \n",
       "3        -121.88     37.34                52.0        867.0           232.0   \n",
       "4        -122.51     38.76                 9.0       2589.0           482.0   \n",
       "...          ...       ...                 ...          ...             ...   \n",
       "16507    -118.33     33.98                30.0       3112.0           931.0   \n",
       "16508    -118.06     33.84                26.0       6960.0          1454.0   \n",
       "16509    -118.10     33.91                36.0        726.0           436.0   \n",
       "16510    -121.04     37.65                 8.0       1959.0           379.0   \n",
       "16511    -118.83     34.17                17.0       4668.0           628.0   \n",
       "\n",
       "       population  households  median_income  rooms_per_household  \\\n",
       "0          1567.0       697.0        15.0001             8.002869   \n",
       "1          1423.0       505.0         3.6413             5.487129   \n",
       "2          1064.0       526.0         6.6155             6.106464   \n",
       "3          1264.0       227.0         2.6312             3.819383   \n",
       "4          1050.0       374.0         4.0435             6.922460   \n",
       "...           ...         ...            ...                  ...   \n",
       "16507      2739.0       841.0         1.6531             3.700357   \n",
       "16508      4367.0      1437.0         4.7953             4.843424   \n",
       "16509       490.0       130.0         3.6389             5.584615   \n",
       "16510       995.0       365.0         3.3567             5.367123   \n",
       "16511      1917.0       624.0         8.1397             7.480769   \n",
       "\n",
       "       bedrooms_per_room  population_per_household  \n",
       "0               0.134995                  2.248207  \n",
       "1               0.197041                  2.817822  \n",
       "2               0.178082                  2.022814  \n",
       "3               0.267589                  5.568282  \n",
       "4               0.186172                  2.807487  \n",
       "...                  ...                       ...  \n",
       "16507           0.299165                  3.256837  \n",
       "16508           0.208908                  3.038970  \n",
       "16509           0.203028                  3.769231  \n",
       "16510           0.193466                  2.726027  \n",
       "16511           0.134533                  3.072115  \n",
       "\n",
       "[16512 rows x 11 columns]"
      ]
     },
     "execution_count": 11,
     "metadata": {},
     "output_type": "execute_result"
    }
   ],
   "source": [
    "housing_explore"
   ]
  },
  {
   "cell_type": "code",
   "execution_count": 12,
   "metadata": {},
   "outputs": [],
   "source": [
    "#custom transformers\n",
    "from sklearn.base import BaseEstimator, TransformerMixin\n",
    "\n",
    "rooms_ix, bedrooms_ix, population_ix, households_ix = 4,5,6,7\n",
    "\n",
    "class CombinedAttributesAdder(BaseEstimator, TransformerMixin):\n",
    "    def __init__(self, add_bedrooms_per_room = True):\n",
    "         # no *args or **kargs\n",
    "        self.add_bedrooms_per_room = add_bedrooms_per_room\n",
    "\n",
    "\n",
    "    def fit(self, X, y=None):\n",
    "        return self # nothing else to do def transform(self, X, y=None):\n",
    "\n",
    "\n",
    "    def transform(self, X, y=None):\n",
    "        rooms_per_household = X[:, rooms_ix] / X[:, households_ix]\n",
    "        population_per_household = X[:, population_ix] / X[:, households_ix] \n",
    "        if self.add_bedrooms_per_room:\n",
    "            bedrooms_per_room = X[:, bedrooms_ix] / X[:, rooms_ix]\n",
    "            return np.c_[X, rooms_per_household, bedrooms_per_room, population_per_household]\n",
    "            \n",
    "        else:\n",
    "            return np.c_[X, rooms_per_household, population_per_household]"
   ]
  },
  {
   "cell_type": "code",
   "execution_count": 13,
   "metadata": {},
   "outputs": [],
   "source": [
    "\n",
    "attr_adder = CombinedAttributesAdder(add_bedrooms_per_room=False)\n",
    "housing_extra_attribs = attr_adder.transform(housing_explore.values)"
   ]
  },
  {
   "cell_type": "code",
   "execution_count": 14,
   "metadata": {},
   "outputs": [
    {
     "data": {
      "text/html": [
       "<div>\n",
       "<style scoped>\n",
       "    .dataframe tbody tr th:only-of-type {\n",
       "        vertical-align: middle;\n",
       "    }\n",
       "\n",
       "    .dataframe tbody tr th {\n",
       "        vertical-align: top;\n",
       "    }\n",
       "\n",
       "    .dataframe thead th {\n",
       "        text-align: right;\n",
       "    }\n",
       "</style>\n",
       "<table border=\"1\" class=\"dataframe\">\n",
       "  <thead>\n",
       "    <tr style=\"text-align: right;\">\n",
       "      <th></th>\n",
       "      <th>0</th>\n",
       "      <th>1</th>\n",
       "      <th>2</th>\n",
       "      <th>3</th>\n",
       "      <th>4</th>\n",
       "      <th>5</th>\n",
       "      <th>6</th>\n",
       "      <th>7</th>\n",
       "      <th>8</th>\n",
       "      <th>9</th>\n",
       "      <th>10</th>\n",
       "      <th>11</th>\n",
       "      <th>12</th>\n",
       "    </tr>\n",
       "  </thead>\n",
       "  <tbody>\n",
       "    <tr>\n",
       "      <th>0</th>\n",
       "      <td>-118.40</td>\n",
       "      <td>34.11</td>\n",
       "      <td>32.0</td>\n",
       "      <td>5578.0</td>\n",
       "      <td>753.0</td>\n",
       "      <td>1567.0</td>\n",
       "      <td>697.0</td>\n",
       "      <td>15.0001</td>\n",
       "      <td>8.002869</td>\n",
       "      <td>0.134995</td>\n",
       "      <td>2.248207</td>\n",
       "      <td>50.199665</td>\n",
       "      <td>46.466357</td>\n",
       "    </tr>\n",
       "    <tr>\n",
       "      <th>1</th>\n",
       "      <td>-122.25</td>\n",
       "      <td>40.66</td>\n",
       "      <td>15.0</td>\n",
       "      <td>2771.0</td>\n",
       "      <td>546.0</td>\n",
       "      <td>1423.0</td>\n",
       "      <td>505.0</td>\n",
       "      <td>3.6413</td>\n",
       "      <td>5.487129</td>\n",
       "      <td>0.197041</td>\n",
       "      <td>2.817822</td>\n",
       "      <td>149.946448</td>\n",
       "      <td>138.686733</td>\n",
       "    </tr>\n",
       "    <tr>\n",
       "      <th>2</th>\n",
       "      <td>-117.87</td>\n",
       "      <td>33.60</td>\n",
       "      <td>20.0</td>\n",
       "      <td>3212.0</td>\n",
       "      <td>572.0</td>\n",
       "      <td>1064.0</td>\n",
       "      <td>526.0</td>\n",
       "      <td>6.6155</td>\n",
       "      <td>6.106464</td>\n",
       "      <td>0.178082</td>\n",
       "      <td>2.022814</td>\n",
       "      <td>86.463608</td>\n",
       "      <td>79.510241</td>\n",
       "    </tr>\n",
       "    <tr>\n",
       "      <th>3</th>\n",
       "      <td>-121.88</td>\n",
       "      <td>37.34</td>\n",
       "      <td>52.0</td>\n",
       "      <td>867.0</td>\n",
       "      <td>232.0</td>\n",
       "      <td>1264.0</td>\n",
       "      <td>227.0</td>\n",
       "      <td>2.6312</td>\n",
       "      <td>3.819383</td>\n",
       "      <td>0.267589</td>\n",
       "      <td>5.568282</td>\n",
       "      <td>88.172697</td>\n",
       "      <td>86.272423</td>\n",
       "    </tr>\n",
       "    <tr>\n",
       "      <th>4</th>\n",
       "      <td>-122.51</td>\n",
       "      <td>38.76</td>\n",
       "      <td>9.0</td>\n",
       "      <td>2589.0</td>\n",
       "      <td>482.0</td>\n",
       "      <td>1050.0</td>\n",
       "      <td>374.0</td>\n",
       "      <td>4.0435</td>\n",
       "      <td>6.922460</td>\n",
       "      <td>0.186172</td>\n",
       "      <td>2.807487</td>\n",
       "      <td>119.203660</td>\n",
       "      <td>92.494126</td>\n",
       "    </tr>\n",
       "    <tr>\n",
       "      <th>...</th>\n",
       "      <td>...</td>\n",
       "      <td>...</td>\n",
       "      <td>...</td>\n",
       "      <td>...</td>\n",
       "      <td>...</td>\n",
       "      <td>...</td>\n",
       "      <td>...</td>\n",
       "      <td>...</td>\n",
       "      <td>...</td>\n",
       "      <td>...</td>\n",
       "      <td>...</td>\n",
       "      <td>...</td>\n",
       "      <td>...</td>\n",
       "    </tr>\n",
       "    <tr>\n",
       "      <th>16507</th>\n",
       "      <td>-118.33</td>\n",
       "      <td>33.98</td>\n",
       "      <td>30.0</td>\n",
       "      <td>3112.0</td>\n",
       "      <td>931.0</td>\n",
       "      <td>2739.0</td>\n",
       "      <td>841.0</td>\n",
       "      <td>1.6531</td>\n",
       "      <td>3.700357</td>\n",
       "      <td>0.299165</td>\n",
       "      <td>3.256837</td>\n",
       "      <td>563.184320</td>\n",
       "      <td>508.741153</td>\n",
       "    </tr>\n",
       "    <tr>\n",
       "      <th>16508</th>\n",
       "      <td>-118.06</td>\n",
       "      <td>33.84</td>\n",
       "      <td>26.0</td>\n",
       "      <td>6960.0</td>\n",
       "      <td>1454.0</td>\n",
       "      <td>4367.0</td>\n",
       "      <td>1437.0</td>\n",
       "      <td>4.7953</td>\n",
       "      <td>4.843424</td>\n",
       "      <td>0.208908</td>\n",
       "      <td>3.038970</td>\n",
       "      <td>303.213563</td>\n",
       "      <td>299.668425</td>\n",
       "    </tr>\n",
       "    <tr>\n",
       "      <th>16509</th>\n",
       "      <td>-118.10</td>\n",
       "      <td>33.91</td>\n",
       "      <td>36.0</td>\n",
       "      <td>726.0</td>\n",
       "      <td>436.0</td>\n",
       "      <td>490.0</td>\n",
       "      <td>130.0</td>\n",
       "      <td>3.6389</td>\n",
       "      <td>5.584615</td>\n",
       "      <td>0.203028</td>\n",
       "      <td>3.769231</td>\n",
       "      <td>119.816428</td>\n",
       "      <td>35.725082</td>\n",
       "    </tr>\n",
       "    <tr>\n",
       "      <th>16510</th>\n",
       "      <td>-121.04</td>\n",
       "      <td>37.65</td>\n",
       "      <td>8.0</td>\n",
       "      <td>1959.0</td>\n",
       "      <td>379.0</td>\n",
       "      <td>995.0</td>\n",
       "      <td>365.0</td>\n",
       "      <td>3.3567</td>\n",
       "      <td>5.367123</td>\n",
       "      <td>0.193466</td>\n",
       "      <td>2.726027</td>\n",
       "      <td>112.908511</td>\n",
       "      <td>108.737748</td>\n",
       "    </tr>\n",
       "    <tr>\n",
       "      <th>16511</th>\n",
       "      <td>-118.83</td>\n",
       "      <td>34.17</td>\n",
       "      <td>17.0</td>\n",
       "      <td>4668.0</td>\n",
       "      <td>628.0</td>\n",
       "      <td>1917.0</td>\n",
       "      <td>624.0</td>\n",
       "      <td>8.1397</td>\n",
       "      <td>7.480769</td>\n",
       "      <td>0.134533</td>\n",
       "      <td>3.072115</td>\n",
       "      <td>77.152721</td>\n",
       "      <td>76.661302</td>\n",
       "    </tr>\n",
       "  </tbody>\n",
       "</table>\n",
       "<p>16512 rows × 13 columns</p>\n",
       "</div>"
      ],
      "text/plain": [
       "           0      1     2       3       4       5       6        7         8   \\\n",
       "0     -118.40  34.11  32.0  5578.0   753.0  1567.0   697.0  15.0001  8.002869   \n",
       "1     -122.25  40.66  15.0  2771.0   546.0  1423.0   505.0   3.6413  5.487129   \n",
       "2     -117.87  33.60  20.0  3212.0   572.0  1064.0   526.0   6.6155  6.106464   \n",
       "3     -121.88  37.34  52.0   867.0   232.0  1264.0   227.0   2.6312  3.819383   \n",
       "4     -122.51  38.76   9.0  2589.0   482.0  1050.0   374.0   4.0435  6.922460   \n",
       "...       ...    ...   ...     ...     ...     ...     ...      ...       ...   \n",
       "16507 -118.33  33.98  30.0  3112.0   931.0  2739.0   841.0   1.6531  3.700357   \n",
       "16508 -118.06  33.84  26.0  6960.0  1454.0  4367.0  1437.0   4.7953  4.843424   \n",
       "16509 -118.10  33.91  36.0   726.0   436.0   490.0   130.0   3.6389  5.584615   \n",
       "16510 -121.04  37.65   8.0  1959.0   379.0   995.0   365.0   3.3567  5.367123   \n",
       "16511 -118.83  34.17  17.0  4668.0   628.0  1917.0   624.0   8.1397  7.480769   \n",
       "\n",
       "             9         10          11          12  \n",
       "0      0.134995  2.248207   50.199665   46.466357  \n",
       "1      0.197041  2.817822  149.946448  138.686733  \n",
       "2      0.178082  2.022814   86.463608   79.510241  \n",
       "3      0.267589  5.568282   88.172697   86.272423  \n",
       "4      0.186172  2.807487  119.203660   92.494126  \n",
       "...         ...       ...         ...         ...  \n",
       "16507  0.299165  3.256837  563.184320  508.741153  \n",
       "16508  0.208908  3.038970  303.213563  299.668425  \n",
       "16509  0.203028  3.769231  119.816428   35.725082  \n",
       "16510  0.193466  2.726027  112.908511  108.737748  \n",
       "16511  0.134533  3.072115   77.152721   76.661302  \n",
       "\n",
       "[16512 rows x 13 columns]"
      ]
     },
     "execution_count": 14,
     "metadata": {},
     "output_type": "execute_result"
    }
   ],
   "source": [
    "cv = pd.DataFrame(housing_extra_attribs)\n",
    "cv"
   ]
  },
  {
   "cell_type": "code",
   "execution_count": 15,
   "metadata": {},
   "outputs": [],
   "source": [
    "#transformation pipelines\n",
    "from sklearn.pipeline import Pipeline\n",
    "from sklearn.preprocessing import StandardScaler\n",
    "\n",
    "\n",
    "num_pipeline = Pipeline([\n",
    "        ('imputer', SimpleImputer(strategy=\"median\")),\n",
    "        ('attribs_adder', CombinedAttributesAdder()),\n",
    "        ('std_scaler', StandardScaler()),\n",
    "    ])\n"
   ]
  },
  {
   "cell_type": "code",
   "execution_count": 16,
   "metadata": {},
   "outputs": [
    {
     "data": {
      "text/html": [
       "<div>\n",
       "<style scoped>\n",
       "    .dataframe tbody tr th:only-of-type {\n",
       "        vertical-align: middle;\n",
       "    }\n",
       "\n",
       "    .dataframe tbody tr th {\n",
       "        vertical-align: top;\n",
       "    }\n",
       "\n",
       "    .dataframe thead th {\n",
       "        text-align: right;\n",
       "    }\n",
       "</style>\n",
       "<table border=\"1\" class=\"dataframe\">\n",
       "  <thead>\n",
       "    <tr style=\"text-align: right;\">\n",
       "      <th></th>\n",
       "      <th>0</th>\n",
       "      <th>1</th>\n",
       "      <th>2</th>\n",
       "      <th>3</th>\n",
       "      <th>4</th>\n",
       "      <th>5</th>\n",
       "      <th>6</th>\n",
       "      <th>7</th>\n",
       "      <th>8</th>\n",
       "      <th>9</th>\n",
       "      <th>10</th>\n",
       "      <th>11</th>\n",
       "      <th>12</th>\n",
       "      <th>13</th>\n",
       "      <th>14</th>\n",
       "      <th>15</th>\n",
       "    </tr>\n",
       "  </thead>\n",
       "  <tbody>\n",
       "    <tr>\n",
       "      <th>0</th>\n",
       "      <td>0.587172</td>\n",
       "      <td>-0.716065</td>\n",
       "      <td>0.261033</td>\n",
       "      <td>1.350108</td>\n",
       "      <td>0.514600</td>\n",
       "      <td>0.120138</td>\n",
       "      <td>0.515879</td>\n",
       "      <td>5.831124</td>\n",
       "      <td>-0.771510</td>\n",
       "      <td>-0.146138</td>\n",
       "      <td>-0.790025</td>\n",
       "      <td>1.0</td>\n",
       "      <td>0.0</td>\n",
       "      <td>0.0</td>\n",
       "      <td>0.0</td>\n",
       "      <td>0.0</td>\n",
       "    </tr>\n",
       "    <tr>\n",
       "      <th>1</th>\n",
       "      <td>-1.330864</td>\n",
       "      <td>2.343295</td>\n",
       "      <td>-1.091440</td>\n",
       "      <td>0.059972</td>\n",
       "      <td>0.019956</td>\n",
       "      <td>-0.006017</td>\n",
       "      <td>0.011601</td>\n",
       "      <td>-0.121474</td>\n",
       "      <td>-0.127440</td>\n",
       "      <td>-0.047872</td>\n",
       "      <td>-0.128850</td>\n",
       "      <td>0.0</td>\n",
       "      <td>1.0</td>\n",
       "      <td>0.0</td>\n",
       "      <td>0.0</td>\n",
       "      <td>0.0</td>\n",
       "    </tr>\n",
       "    <tr>\n",
       "      <th>2</th>\n",
       "      <td>0.851214</td>\n",
       "      <td>-0.954275</td>\n",
       "      <td>-0.693654</td>\n",
       "      <td>0.262661</td>\n",
       "      <td>0.082086</td>\n",
       "      <td>-0.320527</td>\n",
       "      <td>0.066757</td>\n",
       "      <td>1.437160</td>\n",
       "      <td>-0.537352</td>\n",
       "      <td>-0.187461</td>\n",
       "      <td>-0.553116</td>\n",
       "      <td>1.0</td>\n",
       "      <td>0.0</td>\n",
       "      <td>0.0</td>\n",
       "      <td>0.0</td>\n",
       "      <td>0.0</td>\n",
       "    </tr>\n",
       "    <tr>\n",
       "      <th>3</th>\n",
       "      <td>-1.146534</td>\n",
       "      <td>0.792597</td>\n",
       "      <td>1.852177</td>\n",
       "      <td>-0.815133</td>\n",
       "      <td>-0.730372</td>\n",
       "      <td>-0.145312</td>\n",
       "      <td>-0.718551</td>\n",
       "      <td>-0.650819</td>\n",
       "      <td>-0.526316</td>\n",
       "      <td>0.483861</td>\n",
       "      <td>-0.504635</td>\n",
       "      <td>1.0</td>\n",
       "      <td>0.0</td>\n",
       "      <td>0.0</td>\n",
       "      <td>0.0</td>\n",
       "      <td>0.0</td>\n",
       "    </tr>\n",
       "    <tr>\n",
       "      <th>4</th>\n",
       "      <td>-1.460394</td>\n",
       "      <td>1.455847</td>\n",
       "      <td>-1.568783</td>\n",
       "      <td>-0.023678</td>\n",
       "      <td>-0.132977</td>\n",
       "      <td>-0.332792</td>\n",
       "      <td>-0.332463</td>\n",
       "      <td>0.089299</td>\n",
       "      <td>-0.325948</td>\n",
       "      <td>-0.127912</td>\n",
       "      <td>-0.460028</td>\n",
       "      <td>0.0</td>\n",
       "      <td>1.0</td>\n",
       "      <td>0.0</td>\n",
       "      <td>0.0</td>\n",
       "      <td>0.0</td>\n",
       "    </tr>\n",
       "    <tr>\n",
       "      <th>...</th>\n",
       "      <td>...</td>\n",
       "      <td>...</td>\n",
       "      <td>...</td>\n",
       "      <td>...</td>\n",
       "      <td>...</td>\n",
       "      <td>...</td>\n",
       "      <td>...</td>\n",
       "      <td>...</td>\n",
       "      <td>...</td>\n",
       "      <td>...</td>\n",
       "      <td>...</td>\n",
       "      <td>...</td>\n",
       "      <td>...</td>\n",
       "      <td>...</td>\n",
       "      <td>...</td>\n",
       "      <td>...</td>\n",
       "    </tr>\n",
       "    <tr>\n",
       "      <th>16507</th>\n",
       "      <td>0.622046</td>\n",
       "      <td>-0.776785</td>\n",
       "      <td>0.101918</td>\n",
       "      <td>0.216700</td>\n",
       "      <td>0.939945</td>\n",
       "      <td>1.146897</td>\n",
       "      <td>0.894087</td>\n",
       "      <td>-1.163394</td>\n",
       "      <td>2.540858</td>\n",
       "      <td>0.014949</td>\n",
       "      <td>2.524260</td>\n",
       "      <td>1.0</td>\n",
       "      <td>0.0</td>\n",
       "      <td>0.0</td>\n",
       "      <td>0.0</td>\n",
       "      <td>0.0</td>\n",
       "    </tr>\n",
       "    <tr>\n",
       "      <th>16508</th>\n",
       "      <td>0.756558</td>\n",
       "      <td>-0.842176</td>\n",
       "      <td>-0.216311</td>\n",
       "      <td>1.985294</td>\n",
       "      <td>2.189696</td>\n",
       "      <td>2.573146</td>\n",
       "      <td>2.459448</td>\n",
       "      <td>0.483281</td>\n",
       "      <td>0.862214</td>\n",
       "      <td>0.026444</td>\n",
       "      <td>1.025310</td>\n",
       "      <td>1.0</td>\n",
       "      <td>0.0</td>\n",
       "      <td>0.0</td>\n",
       "      <td>0.0</td>\n",
       "      <td>0.0</td>\n",
       "    </tr>\n",
       "    <tr>\n",
       "      <th>16509</th>\n",
       "      <td>0.736630</td>\n",
       "      <td>-0.809481</td>\n",
       "      <td>0.579262</td>\n",
       "      <td>-0.879939</td>\n",
       "      <td>-0.242897</td>\n",
       "      <td>-0.823394</td>\n",
       "      <td>-0.973316</td>\n",
       "      <td>-0.122732</td>\n",
       "      <td>-0.321991</td>\n",
       "      <td>-0.325217</td>\n",
       "      <td>-0.867034</td>\n",
       "      <td>1.0</td>\n",
       "      <td>0.0</td>\n",
       "      <td>0.0</td>\n",
       "      <td>0.0</td>\n",
       "      <td>0.0</td>\n",
       "    </tr>\n",
       "    <tr>\n",
       "      <th>16510</th>\n",
       "      <td>-0.728053</td>\n",
       "      <td>0.937391</td>\n",
       "      <td>-1.648340</td>\n",
       "      <td>-0.313235</td>\n",
       "      <td>-0.379103</td>\n",
       "      <td>-0.380976</td>\n",
       "      <td>-0.356101</td>\n",
       "      <td>-0.270620</td>\n",
       "      <td>-0.366596</td>\n",
       "      <td>-0.044298</td>\n",
       "      <td>-0.343569</td>\n",
       "      <td>0.0</td>\n",
       "      <td>1.0</td>\n",
       "      <td>0.0</td>\n",
       "      <td>0.0</td>\n",
       "      <td>0.0</td>\n",
       "    </tr>\n",
       "    <tr>\n",
       "      <th>16511</th>\n",
       "      <td>0.372950</td>\n",
       "      <td>-0.688040</td>\n",
       "      <td>-0.932326</td>\n",
       "      <td>0.931859</td>\n",
       "      <td>0.215902</td>\n",
       "      <td>0.426764</td>\n",
       "      <td>0.324148</td>\n",
       "      <td>2.235920</td>\n",
       "      <td>-0.597473</td>\n",
       "      <td>0.035632</td>\n",
       "      <td>-0.573542</td>\n",
       "      <td>1.0</td>\n",
       "      <td>0.0</td>\n",
       "      <td>0.0</td>\n",
       "      <td>0.0</td>\n",
       "      <td>0.0</td>\n",
       "    </tr>\n",
       "  </tbody>\n",
       "</table>\n",
       "<p>16512 rows × 16 columns</p>\n",
       "</div>"
      ],
      "text/plain": [
       "             0         1         2         3         4         5         6   \\\n",
       "0      0.587172 -0.716065  0.261033  1.350108  0.514600  0.120138  0.515879   \n",
       "1     -1.330864  2.343295 -1.091440  0.059972  0.019956 -0.006017  0.011601   \n",
       "2      0.851214 -0.954275 -0.693654  0.262661  0.082086 -0.320527  0.066757   \n",
       "3     -1.146534  0.792597  1.852177 -0.815133 -0.730372 -0.145312 -0.718551   \n",
       "4     -1.460394  1.455847 -1.568783 -0.023678 -0.132977 -0.332792 -0.332463   \n",
       "...         ...       ...       ...       ...       ...       ...       ...   \n",
       "16507  0.622046 -0.776785  0.101918  0.216700  0.939945  1.146897  0.894087   \n",
       "16508  0.756558 -0.842176 -0.216311  1.985294  2.189696  2.573146  2.459448   \n",
       "16509  0.736630 -0.809481  0.579262 -0.879939 -0.242897 -0.823394 -0.973316   \n",
       "16510 -0.728053  0.937391 -1.648340 -0.313235 -0.379103 -0.380976 -0.356101   \n",
       "16511  0.372950 -0.688040 -0.932326  0.931859  0.215902  0.426764  0.324148   \n",
       "\n",
       "             7         8         9         10   11   12   13   14   15  \n",
       "0      5.831124 -0.771510 -0.146138 -0.790025  1.0  0.0  0.0  0.0  0.0  \n",
       "1     -0.121474 -0.127440 -0.047872 -0.128850  0.0  1.0  0.0  0.0  0.0  \n",
       "2      1.437160 -0.537352 -0.187461 -0.553116  1.0  0.0  0.0  0.0  0.0  \n",
       "3     -0.650819 -0.526316  0.483861 -0.504635  1.0  0.0  0.0  0.0  0.0  \n",
       "4      0.089299 -0.325948 -0.127912 -0.460028  0.0  1.0  0.0  0.0  0.0  \n",
       "...         ...       ...       ...       ...  ...  ...  ...  ...  ...  \n",
       "16507 -1.163394  2.540858  0.014949  2.524260  1.0  0.0  0.0  0.0  0.0  \n",
       "16508  0.483281  0.862214  0.026444  1.025310  1.0  0.0  0.0  0.0  0.0  \n",
       "16509 -0.122732 -0.321991 -0.325217 -0.867034  1.0  0.0  0.0  0.0  0.0  \n",
       "16510 -0.270620 -0.366596 -0.044298 -0.343569  0.0  1.0  0.0  0.0  0.0  \n",
       "16511  2.235920 -0.597473  0.035632 -0.573542  1.0  0.0  0.0  0.0  0.0  \n",
       "\n",
       "[16512 rows x 16 columns]"
      ]
     },
     "execution_count": 16,
     "metadata": {},
     "output_type": "execute_result"
    }
   ],
   "source": [
    "#from here go with my_pipeline_pd\n",
    "\n",
    "from sklearn.compose import ColumnTransformer\n",
    "\n",
    "num_attri = list(strat_train_set.copy().drop([\"ocean_proximity\",\"median_house_value\"], axis=1))\n",
    "cat_attri = ['ocean_proximity']\n",
    "\n",
    "full_pipeline = ColumnTransformer([\n",
    "    ('num', num_pipeline, num_attri),\n",
    "    ('oneHot', OneHotEncoder(), cat_attri)\n",
    "    \n",
    "])\n",
    "housing_prepared = full_pipeline.fit_transform(strat_train_set.copy())\n",
    "housing_prepared = pd.DataFrame(housing_prepared)\n",
    "housing_prepared"
   ]
  },
  {
   "cell_type": "code",
   "execution_count": 17,
   "metadata": {},
   "outputs": [
    {
     "data": {
      "text/plain": [
       "LinearRegression()"
      ]
     },
     "execution_count": 17,
     "metadata": {},
     "output_type": "execute_result"
    }
   ],
   "source": [
    "from sklearn.linear_model import LinearRegression\n",
    "\n",
    "model = LinearRegression()\n",
    "model.fit(housing_prepared, housing_explore_labels)"
   ]
  },
  {
   "cell_type": "code",
   "execution_count": 18,
   "metadata": {},
   "outputs": [
    {
     "data": {
      "text/plain": [
       "array([408743.68224748, 423165.68257215, 379189.80498521, 321666.44373466,\n",
       "       257114.1299293 ])"
      ]
     },
     "execution_count": 18,
     "metadata": {},
     "output_type": "execute_result"
    }
   ],
   "source": [
    "some_data = housing_data.iloc[:5]\n",
    "some_labels = housing_data['median_house_value'][:5]\n",
    "some_data = full_pipeline.transform(some_data)\n",
    "model.predict(some_data)"
   ]
  },
  {
   "cell_type": "code",
   "execution_count": 19,
   "metadata": {},
   "outputs": [
    {
     "data": {
      "text/plain": [
       "0    452600.0\n",
       "1    358500.0\n",
       "2    352100.0\n",
       "3    341300.0\n",
       "4    342200.0\n",
       "Name: median_house_value, dtype: float64"
      ]
     },
     "execution_count": 19,
     "metadata": {},
     "output_type": "execute_result"
    }
   ],
   "source": [
    "some_labels"
   ]
  },
  {
   "cell_type": "code",
   "execution_count": 20,
   "metadata": {},
   "outputs": [
    {
     "data": {
      "text/plain": [
       "53784.69384644672"
      ]
     },
     "execution_count": 20,
     "metadata": {},
     "output_type": "execute_result"
    }
   ],
   "source": [
    "from sklearn.metrics import mean_squared_error\n",
    "predictions = model.predict(some_data)\n",
    "mse = mean_squared_error(some_labels, predictions)\n",
    "rmse = np.sqrt(mse)\n",
    "rmse"
   ]
  },
  {
   "cell_type": "code",
   "execution_count": 21,
   "metadata": {},
   "outputs": [],
   "source": [
    "from sklearn.tree import DecisionTreeRegressor\n",
    "\n",
    "tree = DecisionTreeRegressor()\n",
    "tree.fit(housing_prepared, housing_explore_labels)\n",
    "tree_predict = tree.predict(some_data)"
   ]
  },
  {
   "cell_type": "code",
   "execution_count": 22,
   "metadata": {},
   "outputs": [
    {
     "data": {
      "text/plain": [
       "array([452600., 358500., 352100., 341300., 342200.])"
      ]
     },
     "execution_count": 22,
     "metadata": {},
     "output_type": "execute_result"
    }
   ],
   "source": [
    "tree_predict"
   ]
  },
  {
   "cell_type": "code",
   "execution_count": 23,
   "metadata": {},
   "outputs": [
    {
     "data": {
      "text/plain": [
       "0.0"
      ]
     },
     "execution_count": 23,
     "metadata": {},
     "output_type": "execute_result"
    }
   ],
   "source": [
    "mse = mean_squared_error(some_labels, tree_predict)\n",
    "rmse = np.sqrt(mse)\n",
    "rmse"
   ]
  },
  {
   "cell_type": "code",
   "execution_count": 24,
   "metadata": {},
   "outputs": [],
   "source": [
    "#k fold cross validation on model\n",
    "from sklearn.model_selection import cross_val_score\n",
    "\n",
    "scores = cross_val_score(tree, housing_prepared, housing_explore_labels, scoring='neg_mean_squared_error', cv=10)\n"
   ]
  },
  {
   "cell_type": "code",
   "execution_count": 25,
   "metadata": {},
   "outputs": [],
   "source": [
    "tree_rmse_scores = np.sqrt(-scores)"
   ]
  },
  {
   "cell_type": "code",
   "execution_count": 26,
   "metadata": {},
   "outputs": [
    {
     "name": "stdout",
     "output_type": "stream",
     "text": [
      "71065.6803905592 2446.147279378443\n"
     ]
    }
   ],
   "source": [
    "print(tree_rmse_scores.mean(), tree_rmse_scores.std())"
   ]
  },
  {
   "cell_type": "code",
   "execution_count": 27,
   "metadata": {},
   "outputs": [],
   "source": [
    "linear_cross_valid_scores = cross_val_score(model, housing_prepared, housing_explore_labels, scoring='neg_mean_squared_error', cv=10)"
   ]
  },
  {
   "cell_type": "code",
   "execution_count": 28,
   "metadata": {},
   "outputs": [],
   "source": [
    "lin_rmse_scores = np.sqrt(-linear_cross_valid_scores)"
   ]
  },
  {
   "cell_type": "code",
   "execution_count": 29,
   "metadata": {},
   "outputs": [
    {
     "name": "stdout",
     "output_type": "stream",
     "text": [
      "69319.11759297753 1914.2031593678694\n"
     ]
    }
   ],
   "source": [
    "print(lin_rmse_scores.mean(), lin_rmse_scores.std())"
   ]
  },
  {
   "cell_type": "code",
   "execution_count": 30,
   "metadata": {},
   "outputs": [
    {
     "data": {
      "text/plain": [
       "RandomForestRegressor(random_state=42)"
      ]
     },
     "execution_count": 30,
     "metadata": {},
     "output_type": "execute_result"
    }
   ],
   "source": [
    "from sklearn.ensemble import RandomForestRegressor\n",
    "forest = RandomForestRegressor(n_estimators=100, random_state=42)\n",
    "forest.fit(housing_prepared, housing_explore_labels)"
   ]
  },
  {
   "cell_type": "code",
   "execution_count": 31,
   "metadata": {},
   "outputs": [
    {
     "data": {
      "text/plain": [
       "19505.010044383467"
      ]
     },
     "execution_count": 31,
     "metadata": {},
     "output_type": "execute_result"
    }
   ],
   "source": [
    "housing_predictions = forest.predict(housing_prepared)\n",
    "forest_mse = mean_squared_error(housing_explore_labels, housing_predictions)\n",
    "forest_rmse = np.sqrt(forest_mse)\n",
    "forest_rmse"
   ]
  },
  {
   "cell_type": "code",
   "execution_count": 32,
   "metadata": {},
   "outputs": [
    {
     "name": "stdout",
     "output_type": "stream",
     "text": [
      "50386.62031932768 1717.923248992611\n"
     ]
    }
   ],
   "source": [
    "forest_scores = cross_val_score(forest, housing_prepared, housing_explore_labels, scoring=\"neg_mean_squared_error\", cv=10)\n",
    "forest_scores = np.sqrt(-forest_scores)\n",
    "print(forest_scores.mean(), forest_scores.std()) "
   ]
  },
  {
   "cell_type": "code",
   "execution_count": 33,
   "metadata": {},
   "outputs": [],
   "source": [
    "import joblib"
   ]
  },
  {
   "cell_type": "code",
   "execution_count": 34,
   "metadata": {},
   "outputs": [],
   "source": [
    "#joblib.dump(model, 'my_chap2_lin_model.pkl')"
   ]
  },
  {
   "cell_type": "code",
   "execution_count": 35,
   "metadata": {},
   "outputs": [],
   "source": [
    "#joblib.dump(tree, 'my_chap2_dec_tree_model.pkl')\n",
    "#joblib.dump(forest, 'my_chap2_forest_model.pkl')"
   ]
  },
  {
   "cell_type": "code",
   "execution_count": 36,
   "metadata": {},
   "outputs": [],
   "source": [
    "# next time just run all cells \n",
    "from sklearn.model_selection import GridSearchCV"
   ]
  },
  {
   "cell_type": "code",
   "execution_count": 37,
   "metadata": {},
   "outputs": [
    {
     "data": {
      "text/plain": [
       "GridSearchCV(cv=5, estimator=RandomForestRegressor(),\n",
       "             param_grid=[{'max_features': [2, 4, 6, 8],\n",
       "                          'n_estimators': [3, 10, 30]},\n",
       "                         {'bootstrap': [False], 'max_features': [2, 3, 4],\n",
       "                          'n_estimators': [3, 10]}],\n",
       "             return_train_score=True, scoring='neg_mean_squared_error')"
      ]
     },
     "execution_count": 37,
     "metadata": {},
     "output_type": "execute_result"
    }
   ],
   "source": [
    "param_grid = [\n",
    "    {'n_estimators': [3, 10, 30], 'max_features': [2, 4, 6, 8]},\n",
    "    {'bootstrap': [False], 'n_estimators': [3, 10], 'max_features': [2, 3, 4]},\n",
    "  ]\n",
    "\n",
    "forest_reg = RandomForestRegressor()\n",
    "gris_search = GridSearchCV(forest_reg, param_grid, cv=5, scoring='neg_mean_squared_error', return_train_score=True)\n",
    "gris_search.fit(housing_prepared, housing_explore_labels)\n"
   ]
  },
  {
   "cell_type": "code",
   "execution_count": 38,
   "metadata": {},
   "outputs": [
    {
     "data": {
      "text/plain": [
       "{'max_features': 8, 'n_estimators': 30}"
      ]
     },
     "execution_count": 38,
     "metadata": {},
     "output_type": "execute_result"
    }
   ],
   "source": [
    "gris_search.best_params_"
   ]
  },
  {
   "cell_type": "code",
   "execution_count": 39,
   "metadata": {},
   "outputs": [
    {
     "data": {
      "text/plain": [
       "RandomForestRegressor(max_features=8, n_estimators=30)"
      ]
     },
     "execution_count": 39,
     "metadata": {},
     "output_type": "execute_result"
    }
   ],
   "source": [
    "gris_search.best_estimator_"
   ]
  },
  {
   "cell_type": "code",
   "execution_count": 40,
   "metadata": {},
   "outputs": [
    {
     "name": "stdout",
     "output_type": "stream",
     "text": [
      "64027.38022279006 {'max_features': 2, 'n_estimators': 3}\n",
      "56025.34213497826 {'max_features': 2, 'n_estimators': 10}\n",
      "53507.571527502565 {'max_features': 2, 'n_estimators': 30}\n",
      "61540.930181158685 {'max_features': 4, 'n_estimators': 3}\n",
      "54421.1099328529 {'max_features': 4, 'n_estimators': 10}\n",
      "51770.868737265504 {'max_features': 4, 'n_estimators': 30}\n",
      "59443.63799940489 {'max_features': 6, 'n_estimators': 3}\n",
      "52897.26485315661 {'max_features': 6, 'n_estimators': 10}\n",
      "51029.1253309248 {'max_features': 6, 'n_estimators': 30}\n",
      "59568.59749089529 {'max_features': 8, 'n_estimators': 3}\n",
      "52838.230178731515 {'max_features': 8, 'n_estimators': 10}\n",
      "50992.940135154044 {'max_features': 8, 'n_estimators': 30}\n",
      "62259.29846855353 {'bootstrap': False, 'max_features': 2, 'n_estimators': 3}\n",
      "55503.50139381938 {'bootstrap': False, 'max_features': 2, 'n_estimators': 10}\n",
      "61940.23739570317 {'bootstrap': False, 'max_features': 3, 'n_estimators': 3}\n",
      "54572.712922141545 {'bootstrap': False, 'max_features': 3, 'n_estimators': 10}\n",
      "58833.46881320486 {'bootstrap': False, 'max_features': 4, 'n_estimators': 3}\n",
      "53611.519961635495 {'bootstrap': False, 'max_features': 4, 'n_estimators': 10}\n"
     ]
    }
   ],
   "source": [
    "cv_scores = gris_search.cv_results_\n",
    "for mean_score, params in zip(cv_scores['mean_test_score'], cv_scores['params']):\n",
    "    print(np.sqrt(-mean_score), params)"
   ]
  },
  {
   "cell_type": "code",
   "execution_count": 41,
   "metadata": {},
   "outputs": [
    {
     "data": {
      "text/plain": [
       "dict_keys(['mean_fit_time', 'std_fit_time', 'mean_score_time', 'std_score_time', 'param_max_features', 'param_n_estimators', 'param_bootstrap', 'params', 'split0_test_score', 'split1_test_score', 'split2_test_score', 'split3_test_score', 'split4_test_score', 'mean_test_score', 'std_test_score', 'rank_test_score', 'split0_train_score', 'split1_train_score', 'split2_train_score', 'split3_train_score', 'split4_train_score', 'mean_train_score', 'std_train_score'])"
      ]
     },
     "execution_count": 41,
     "metadata": {},
     "output_type": "execute_result"
    }
   ],
   "source": [
    "gris_search.cv_results_.keys()"
   ]
  },
  {
   "cell_type": "code",
   "execution_count": 42,
   "metadata": {},
   "outputs": [
    {
     "data": {
      "text/plain": [
       "array([0.07491305, 0.06973191, 0.04974665, 0.02867117, 0.01785247,\n",
       "       0.015939  , 0.01656567, 0.39864968, 0.03774806, 0.10726398,\n",
       "       0.02659174, 0.00591061, 0.14467837, 0.        , 0.00189281,\n",
       "       0.00384484])"
      ]
     },
     "execution_count": 42,
     "metadata": {},
     "output_type": "execute_result"
    }
   ],
   "source": [
    "feature_importances = gris_search.best_estimator_.feature_importances_\n",
    "feature_importances"
   ]
  },
  {
   "cell_type": "code",
   "execution_count": 43,
   "metadata": {},
   "outputs": [
    {
     "data": {
      "text/plain": [
       "{'num': Pipeline(steps=[('imputer', SimpleImputer(strategy='median')),\n",
       "                 ('attribs_adder', CombinedAttributesAdder()),\n",
       "                 ('std_scaler', StandardScaler())]),\n",
       " 'oneHot': OneHotEncoder(),\n",
       " 'remainder': 'drop'}"
      ]
     },
     "execution_count": 43,
     "metadata": {},
     "output_type": "execute_result"
    }
   ],
   "source": [
    "full_pipeline.named_transformers_"
   ]
  },
  {
   "cell_type": "code",
   "execution_count": 44,
   "metadata": {},
   "outputs": [],
   "source": [
    "extra_attribs = ['rooms_per_hhold', 'popul_pe_hhold', 'bedrooms_per_room']\n",
    "cat_encoder = full_pipeline.named_transformers_['oneHot']"
   ]
  },
  {
   "cell_type": "code",
   "execution_count": 45,
   "metadata": {},
   "outputs": [],
   "source": [
    "cat_one_hot_attribs = cat_encoder.categories_[0]\n",
    "attributes = num_attri + extra_attribs + list(cat_one_hot_attribs)"
   ]
  },
  {
   "cell_type": "code",
   "execution_count": 46,
   "metadata": {},
   "outputs": [
    {
     "data": {
      "text/plain": [
       "['longitude',\n",
       " 'latitude',\n",
       " 'housing_median_age',\n",
       " 'total_rooms',\n",
       " 'total_bedrooms',\n",
       " 'population',\n",
       " 'households',\n",
       " 'median_income',\n",
       " 'rooms_per_hhold',\n",
       " 'popul_pe_hhold',\n",
       " 'bedrooms_per_room',\n",
       " '<1H OCEAN',\n",
       " 'INLAND',\n",
       " 'ISLAND',\n",
       " 'NEAR BAY',\n",
       " 'NEAR OCEAN']"
      ]
     },
     "execution_count": 46,
     "metadata": {},
     "output_type": "execute_result"
    }
   ],
   "source": [
    "attributes"
   ]
  },
  {
   "cell_type": "code",
   "execution_count": 47,
   "metadata": {},
   "outputs": [],
   "source": [
    "final_model = gris_search.best_estimator_\n",
    "\n",
    "X_test = strat_test_set.drop('median_house_value', axis=1)\n",
    "y_test = strat_test_set['median_house_value'].copy()\n",
    "\n",
    "X_test_prepared = full_pipeline.transform(X_test)\n",
    "\n",
    "final_predictions = final_model.predict(X_test_prepared)"
   ]
  },
  {
   "cell_type": "code",
   "execution_count": 48,
   "metadata": {},
   "outputs": [
    {
     "data": {
      "text/plain": [
       "49378.93841192487"
      ]
     },
     "execution_count": 48,
     "metadata": {},
     "output_type": "execute_result"
    }
   ],
   "source": [
    "final_mse = mean_squared_error(y_test, final_predictions)\n",
    "final_rmse = np.sqrt(final_mse)\n",
    "final_rmse"
   ]
  },
  {
   "cell_type": "code",
   "execution_count": 49,
   "metadata": {},
   "outputs": [
    {
     "data": {
      "text/plain": [
       "array([47313.76075297, 51361.14446533])"
      ]
     },
     "execution_count": 49,
     "metadata": {},
     "output_type": "execute_result"
    }
   ],
   "source": [
    "from scipy import stats\n",
    "confidence = 0.95\n",
    "squared_errors = (final_predictions - y_test) ** 2\n",
    "np.sqrt(stats.t.interval(confidence, len(squared_errors) - 1, loc=squared_errors.mean(),\n",
    "                         scale=stats.sem(squared_errors)))"
   ]
  },
  {
   "cell_type": "code",
   "execution_count": 99,
   "metadata": {},
   "outputs": [],
   "source": [
    "from sklearn.svm import SVR\n"
   ]
  },
  {
   "cell_type": "code",
   "execution_count": 91,
   "metadata": {},
   "outputs": [
    {
     "data": {
      "text/plain": [
       "104813.98927148171"
      ]
     },
     "execution_count": 91,
     "metadata": {},
     "output_type": "execute_result"
    }
   ],
   "source": [
    "svr_predictions= svr.predict(housing_prepared)\n",
    "svr_mse = mean_squared_error(housing_explore_labels, svr_predictions)\n",
    "svr_rmse = np.sqrt(svr_mse)\n",
    "svr_rmse"
   ]
  },
  {
   "cell_type": "code",
   "execution_count": 92,
   "metadata": {},
   "outputs": [
    {
     "name": "stdout",
     "output_type": "stream",
     "text": [
      "249938.73396140253 276347.551812026\n"
     ]
    }
   ],
   "source": [
    "svr_scores = cross_val_score(svr, housing_prepared, housing_explore_labels, scoring=\"neg_mean_squared_error\", cv=10)\n",
    "svr_scores = np.sqrt(-svr_scores)\n",
    "print(svr_scores.mean(), svr_scores.std())"
   ]
  },
  {
   "cell_type": "code",
   "execution_count": 96,
   "metadata": {},
   "outputs": [
    {
     "name": "stdout",
     "output_type": "stream",
     "text": [
      "Fitting 5 folds for each of 38 candidates, totalling 190 fits\n",
      "[CV] END ..............................C=10.0, kernel=linear; total time=   0.5s\n",
      "[CV] END ..............................C=10.0, kernel=linear; total time=   0.5s\n",
      "[CV] END ..............................C=10.0, kernel=linear; total time=   0.5s\n",
      "[CV] END ..............................C=10.0, kernel=linear; total time=   0.5s\n",
      "[CV] END ..............................C=10.0, kernel=linear; total time=   0.5s\n",
      "[CV] END ..............................C=30.0, kernel=linear; total time=   0.5s\n",
      "[CV] END ..............................C=30.0, kernel=linear; total time=   0.5s\n",
      "[CV] END ..............................C=30.0, kernel=linear; total time=   0.6s\n",
      "[CV] END ..............................C=30.0, kernel=linear; total time=   0.6s\n",
      "[CV] END ..............................C=30.0, kernel=linear; total time=   0.5s\n",
      "[CV] END .............................C=100.0, kernel=linear; total time=   0.6s\n",
      "[CV] END .............................C=100.0, kernel=linear; total time=   0.6s\n",
      "[CV] END .............................C=100.0, kernel=linear; total time=   0.6s\n",
      "[CV] END .............................C=100.0, kernel=linear; total time=   0.6s\n",
      "[CV] END .............................C=100.0, kernel=linear; total time=   0.6s\n",
      "[CV] END .............................C=300.0, kernel=linear; total time=   0.6s\n",
      "[CV] END .............................C=300.0, kernel=linear; total time=   0.6s\n",
      "[CV] END .............................C=300.0, kernel=linear; total time=   0.6s\n",
      "[CV] END .............................C=300.0, kernel=linear; total time=   0.6s\n",
      "[CV] END .............................C=300.0, kernel=linear; total time=   0.6s\n",
      "[CV] END ............................C=1000.0, kernel=linear; total time=   0.7s\n",
      "[CV] END ............................C=1000.0, kernel=linear; total time=   0.7s\n",
      "[CV] END ............................C=1000.0, kernel=linear; total time=   0.7s\n",
      "[CV] END ............................C=1000.0, kernel=linear; total time=   0.7s\n",
      "[CV] END ............................C=1000.0, kernel=linear; total time=   0.7s\n",
      "[CV] END ............................C=3000.0, kernel=linear; total time=   0.9s\n",
      "[CV] END ............................C=3000.0, kernel=linear; total time=   1.0s\n",
      "[CV] END ............................C=3000.0, kernel=linear; total time=   0.8s\n",
      "[CV] END ............................C=3000.0, kernel=linear; total time=   0.9s\n",
      "[CV] END ............................C=3000.0, kernel=linear; total time=   0.8s\n",
      "[CV] END ...........................C=10000.0, kernel=linear; total time=   2.3s\n",
      "[CV] END ...........................C=10000.0, kernel=linear; total time=   1.4s\n",
      "[CV] END ...........................C=10000.0, kernel=linear; total time=   1.1s\n",
      "[CV] END ...........................C=10000.0, kernel=linear; total time=   1.1s\n",
      "[CV] END ...........................C=10000.0, kernel=linear; total time=   1.2s\n",
      "[CV] END ...........................C=30000.0, kernel=linear; total time=   5.7s\n",
      "[CV] END ...........................C=30000.0, kernel=linear; total time=   8.0s\n",
      "[CV] END ...........................C=30000.0, kernel=linear; total time=   2.5s\n",
      "[CV] END ...........................C=30000.0, kernel=linear; total time=   1.3s\n",
      "[CV] END ...........................C=30000.0, kernel=linear; total time=   1.5s\n",
      "[CV] END ....................C=300.0, gamma=0.01, kernel=rbf; total time=   0.5s\n",
      "[CV] END ....................C=300.0, gamma=0.01, kernel=rbf; total time=   0.5s\n",
      "[CV] END ....................C=300.0, gamma=0.01, kernel=rbf; total time=   0.5s\n",
      "[CV] END ....................C=300.0, gamma=0.01, kernel=rbf; total time=   0.5s\n",
      "[CV] END ....................C=300.0, gamma=0.01, kernel=rbf; total time=   0.5s\n",
      "[CV] END ....................C=300.0, gamma=0.03, kernel=rbf; total time=   0.5s\n",
      "[CV] END ....................C=300.0, gamma=0.03, kernel=rbf; total time=   0.5s\n",
      "[CV] END ....................C=300.0, gamma=0.03, kernel=rbf; total time=   0.5s\n",
      "[CV] END ....................C=300.0, gamma=0.03, kernel=rbf; total time=   0.5s\n",
      "[CV] END ....................C=300.0, gamma=0.03, kernel=rbf; total time=   0.6s\n",
      "[CV] END .....................C=300.0, gamma=0.1, kernel=rbf; total time=   0.6s\n",
      "[CV] END .....................C=300.0, gamma=0.1, kernel=rbf; total time=   0.5s\n",
      "[CV] END .....................C=300.0, gamma=0.1, kernel=rbf; total time=   0.5s\n",
      "[CV] END .....................C=300.0, gamma=0.1, kernel=rbf; total time=   0.5s\n",
      "[CV] END .....................C=300.0, gamma=0.1, kernel=rbf; total time=   0.6s\n",
      "[CV] END .....................C=300.0, gamma=0.3, kernel=rbf; total time=   0.5s\n",
      "[CV] END .....................C=300.0, gamma=0.3, kernel=rbf; total time=   0.5s\n",
      "[CV] END .....................C=300.0, gamma=0.3, kernel=rbf; total time=   0.5s\n",
      "[CV] END .....................C=300.0, gamma=0.3, kernel=rbf; total time=   0.5s\n",
      "[CV] END .....................C=300.0, gamma=0.3, kernel=rbf; total time=   0.5s\n",
      "[CV] END .....................C=300.0, gamma=1.0, kernel=rbf; total time=   0.5s\n",
      "[CV] END .....................C=300.0, gamma=1.0, kernel=rbf; total time=   0.5s\n",
      "[CV] END .....................C=300.0, gamma=1.0, kernel=rbf; total time=   0.5s\n",
      "[CV] END .....................C=300.0, gamma=1.0, kernel=rbf; total time=   0.5s\n",
      "[CV] END .....................C=300.0, gamma=1.0, kernel=rbf; total time=   0.5s\n",
      "[CV] END .....................C=300.0, gamma=3.0, kernel=rbf; total time=   0.5s\n",
      "[CV] END .....................C=300.0, gamma=3.0, kernel=rbf; total time=   0.5s\n",
      "[CV] END .....................C=300.0, gamma=3.0, kernel=rbf; total time=   0.5s\n",
      "[CV] END .....................C=300.0, gamma=3.0, kernel=rbf; total time=   0.5s\n",
      "[CV] END .....................C=300.0, gamma=3.0, kernel=rbf; total time=   0.5s\n",
      "[CV] END ...................C=1000.0, gamma=0.01, kernel=rbf; total time=   0.5s\n",
      "[CV] END ...................C=1000.0, gamma=0.01, kernel=rbf; total time=   0.5s\n",
      "[CV] END ...................C=1000.0, gamma=0.01, kernel=rbf; total time=   0.5s\n",
      "[CV] END ...................C=1000.0, gamma=0.01, kernel=rbf; total time=   0.5s\n",
      "[CV] END ...................C=1000.0, gamma=0.01, kernel=rbf; total time=   0.5s\n",
      "[CV] END ...................C=1000.0, gamma=0.03, kernel=rbf; total time=   0.6s\n",
      "[CV] END ...................C=1000.0, gamma=0.03, kernel=rbf; total time=   0.5s\n",
      "[CV] END ...................C=1000.0, gamma=0.03, kernel=rbf; total time=   0.5s\n",
      "[CV] END ...................C=1000.0, gamma=0.03, kernel=rbf; total time=   0.5s\n",
      "[CV] END ...................C=1000.0, gamma=0.03, kernel=rbf; total time=   0.6s\n",
      "[CV] END ....................C=1000.0, gamma=0.1, kernel=rbf; total time=   0.6s\n",
      "[CV] END ....................C=1000.0, gamma=0.1, kernel=rbf; total time=   0.6s\n",
      "[CV] END ....................C=1000.0, gamma=0.1, kernel=rbf; total time=   0.6s\n",
      "[CV] END ....................C=1000.0, gamma=0.1, kernel=rbf; total time=   0.6s\n",
      "[CV] END ....................C=1000.0, gamma=0.1, kernel=rbf; total time=   0.6s\n",
      "[CV] END ....................C=1000.0, gamma=0.3, kernel=rbf; total time=   0.6s\n",
      "[CV] END ....................C=1000.0, gamma=0.3, kernel=rbf; total time=   0.6s\n",
      "[CV] END ....................C=1000.0, gamma=0.3, kernel=rbf; total time=   0.6s\n",
      "[CV] END ....................C=1000.0, gamma=0.3, kernel=rbf; total time=   0.6s\n",
      "[CV] END ....................C=1000.0, gamma=0.3, kernel=rbf; total time=   0.6s\n",
      "[CV] END ....................C=1000.0, gamma=1.0, kernel=rbf; total time=   0.5s\n",
      "[CV] END ....................C=1000.0, gamma=1.0, kernel=rbf; total time=   0.5s\n",
      "[CV] END ....................C=1000.0, gamma=1.0, kernel=rbf; total time=   0.5s\n",
      "[CV] END ....................C=1000.0, gamma=1.0, kernel=rbf; total time=   0.6s\n",
      "[CV] END ....................C=1000.0, gamma=1.0, kernel=rbf; total time=   0.5s\n",
      "[CV] END ....................C=1000.0, gamma=3.0, kernel=rbf; total time=   0.5s\n",
      "[CV] END ....................C=1000.0, gamma=3.0, kernel=rbf; total time=   0.5s\n",
      "[CV] END ....................C=1000.0, gamma=3.0, kernel=rbf; total time=   0.5s\n",
      "[CV] END ....................C=1000.0, gamma=3.0, kernel=rbf; total time=   0.6s\n",
      "[CV] END ....................C=1000.0, gamma=3.0, kernel=rbf; total time=   0.6s\n",
      "[CV] END ...................C=1500.0, gamma=0.01, kernel=rbf; total time=   0.6s\n",
      "[CV] END ...................C=1500.0, gamma=0.01, kernel=rbf; total time=   0.6s\n",
      "[CV] END ...................C=1500.0, gamma=0.01, kernel=rbf; total time=   0.6s\n",
      "[CV] END ...................C=1500.0, gamma=0.01, kernel=rbf; total time=   0.6s\n",
      "[CV] END ...................C=1500.0, gamma=0.01, kernel=rbf; total time=   0.6s\n",
      "[CV] END ...................C=1500.0, gamma=0.03, kernel=rbf; total time=   0.6s\n",
      "[CV] END ...................C=1500.0, gamma=0.03, kernel=rbf; total time=   0.6s\n",
      "[CV] END ...................C=1500.0, gamma=0.03, kernel=rbf; total time=   0.6s\n",
      "[CV] END ...................C=1500.0, gamma=0.03, kernel=rbf; total time=   0.6s\n",
      "[CV] END ...................C=1500.0, gamma=0.03, kernel=rbf; total time=   0.6s\n",
      "[CV] END ....................C=1500.0, gamma=0.1, kernel=rbf; total time=   0.6s\n",
      "[CV] END ....................C=1500.0, gamma=0.1, kernel=rbf; total time=   0.6s\n",
      "[CV] END ....................C=1500.0, gamma=0.1, kernel=rbf; total time=   0.6s\n",
      "[CV] END ....................C=1500.0, gamma=0.1, kernel=rbf; total time=   0.6s\n",
      "[CV] END ....................C=1500.0, gamma=0.1, kernel=rbf; total time=   0.6s\n",
      "[CV] END ....................C=1500.0, gamma=0.3, kernel=rbf; total time=   0.6s\n",
      "[CV] END ....................C=1500.0, gamma=0.3, kernel=rbf; total time=   0.6s\n",
      "[CV] END ....................C=1500.0, gamma=0.3, kernel=rbf; total time=   0.6s\n",
      "[CV] END ....................C=1500.0, gamma=0.3, kernel=rbf; total time=   0.6s\n",
      "[CV] END ....................C=1500.0, gamma=0.3, kernel=rbf; total time=   0.6s\n",
      "[CV] END ....................C=1500.0, gamma=1.0, kernel=rbf; total time=   0.6s\n",
      "[CV] END ....................C=1500.0, gamma=1.0, kernel=rbf; total time=   0.6s\n",
      "[CV] END ....................C=1500.0, gamma=1.0, kernel=rbf; total time=   0.6s\n",
      "[CV] END ....................C=1500.0, gamma=1.0, kernel=rbf; total time=   0.6s\n",
      "[CV] END ....................C=1500.0, gamma=1.0, kernel=rbf; total time=   0.6s\n",
      "[CV] END ....................C=1500.0, gamma=3.0, kernel=rbf; total time=   0.6s\n",
      "[CV] END ....................C=1500.0, gamma=3.0, kernel=rbf; total time=   0.6s\n",
      "[CV] END ....................C=1500.0, gamma=3.0, kernel=rbf; total time=   0.6s\n",
      "[CV] END ....................C=1500.0, gamma=3.0, kernel=rbf; total time=   0.6s\n",
      "[CV] END ....................C=1500.0, gamma=3.0, kernel=rbf; total time=   0.6s\n",
      "[CV] END ...................C=2000.0, gamma=0.01, kernel=rbf; total time=   0.6s\n",
      "[CV] END ...................C=2000.0, gamma=0.01, kernel=rbf; total time=   0.6s\n",
      "[CV] END ...................C=2000.0, gamma=0.01, kernel=rbf; total time=   0.6s\n",
      "[CV] END ...................C=2000.0, gamma=0.01, kernel=rbf; total time=   0.6s\n",
      "[CV] END ...................C=2000.0, gamma=0.01, kernel=rbf; total time=   0.6s\n",
      "[CV] END ...................C=2000.0, gamma=0.03, kernel=rbf; total time=   0.6s\n",
      "[CV] END ...................C=2000.0, gamma=0.03, kernel=rbf; total time=   0.6s\n",
      "[CV] END ...................C=2000.0, gamma=0.03, kernel=rbf; total time=   0.6s\n",
      "[CV] END ...................C=2000.0, gamma=0.03, kernel=rbf; total time=   0.6s\n",
      "[CV] END ...................C=2000.0, gamma=0.03, kernel=rbf; total time=   0.6s\n",
      "[CV] END ....................C=2000.0, gamma=0.1, kernel=rbf; total time=   0.6s\n",
      "[CV] END ....................C=2000.0, gamma=0.1, kernel=rbf; total time=   0.6s\n",
      "[CV] END ....................C=2000.0, gamma=0.1, kernel=rbf; total time=   0.6s\n",
      "[CV] END ....................C=2000.0, gamma=0.1, kernel=rbf; total time=   0.6s\n",
      "[CV] END ....................C=2000.0, gamma=0.1, kernel=rbf; total time=   0.6s\n",
      "[CV] END ....................C=2000.0, gamma=0.3, kernel=rbf; total time=   0.6s\n",
      "[CV] END ....................C=2000.0, gamma=0.3, kernel=rbf; total time=   0.6s\n",
      "[CV] END ....................C=2000.0, gamma=0.3, kernel=rbf; total time=   0.6s\n",
      "[CV] END ....................C=2000.0, gamma=0.3, kernel=rbf; total time=   0.6s\n",
      "[CV] END ....................C=2000.0, gamma=0.3, kernel=rbf; total time=   0.6s\n",
      "[CV] END ....................C=2000.0, gamma=1.0, kernel=rbf; total time=   0.6s\n",
      "[CV] END ....................C=2000.0, gamma=1.0, kernel=rbf; total time=   0.6s\n",
      "[CV] END ....................C=2000.0, gamma=1.0, kernel=rbf; total time=   0.6s\n",
      "[CV] END ....................C=2000.0, gamma=1.0, kernel=rbf; total time=   0.6s\n",
      "[CV] END ....................C=2000.0, gamma=1.0, kernel=rbf; total time=   0.6s\n",
      "[CV] END ....................C=2000.0, gamma=3.0, kernel=rbf; total time=   0.6s\n",
      "[CV] END ....................C=2000.0, gamma=3.0, kernel=rbf; total time=   0.6s\n",
      "[CV] END ....................C=2000.0, gamma=3.0, kernel=rbf; total time=   0.6s\n",
      "[CV] END ....................C=2000.0, gamma=3.0, kernel=rbf; total time=   0.6s\n",
      "[CV] END ....................C=2000.0, gamma=3.0, kernel=rbf; total time=   0.6s\n",
      "[CV] END ...................C=3000.0, gamma=0.01, kernel=rbf; total time=   0.6s\n",
      "[CV] END ...................C=3000.0, gamma=0.01, kernel=rbf; total time=   0.6s\n",
      "[CV] END ...................C=3000.0, gamma=0.01, kernel=rbf; total time=   0.6s\n",
      "[CV] END ...................C=3000.0, gamma=0.01, kernel=rbf; total time=   0.6s\n",
      "[CV] END ...................C=3000.0, gamma=0.01, kernel=rbf; total time=   0.6s\n",
      "[CV] END ...................C=3000.0, gamma=0.03, kernel=rbf; total time=   0.6s\n",
      "[CV] END ...................C=3000.0, gamma=0.03, kernel=rbf; total time=   0.6s\n",
      "[CV] END ...................C=3000.0, gamma=0.03, kernel=rbf; total time=   0.6s\n",
      "[CV] END ...................C=3000.0, gamma=0.03, kernel=rbf; total time=   0.6s\n",
      "[CV] END ...................C=3000.0, gamma=0.03, kernel=rbf; total time=   0.6s\n",
      "[CV] END ....................C=3000.0, gamma=0.1, kernel=rbf; total time=   0.6s\n",
      "[CV] END ....................C=3000.0, gamma=0.1, kernel=rbf; total time=   0.6s\n",
      "[CV] END ....................C=3000.0, gamma=0.1, kernel=rbf; total time=   0.6s\n",
      "[CV] END ....................C=3000.0, gamma=0.1, kernel=rbf; total time=   0.6s\n",
      "[CV] END ....................C=3000.0, gamma=0.1, kernel=rbf; total time=   0.6s\n",
      "[CV] END ....................C=3000.0, gamma=0.3, kernel=rbf; total time=   0.6s\n",
      "[CV] END ....................C=3000.0, gamma=0.3, kernel=rbf; total time=   0.6s\n",
      "[CV] END ....................C=3000.0, gamma=0.3, kernel=rbf; total time=   0.6s\n",
      "[CV] END ....................C=3000.0, gamma=0.3, kernel=rbf; total time=   0.6s\n",
      "[CV] END ....................C=3000.0, gamma=0.3, kernel=rbf; total time=   0.6s\n",
      "[CV] END ....................C=3000.0, gamma=1.0, kernel=rbf; total time=   0.6s\n",
      "[CV] END ....................C=3000.0, gamma=1.0, kernel=rbf; total time=   0.6s\n",
      "[CV] END ....................C=3000.0, gamma=1.0, kernel=rbf; total time=   0.6s\n",
      "[CV] END ....................C=3000.0, gamma=1.0, kernel=rbf; total time=   0.6s\n",
      "[CV] END ....................C=3000.0, gamma=1.0, kernel=rbf; total time=   0.6s\n",
      "[CV] END ....................C=3000.0, gamma=3.0, kernel=rbf; total time=   0.6s\n",
      "[CV] END ....................C=3000.0, gamma=3.0, kernel=rbf; total time=   0.6s\n",
      "[CV] END ....................C=3000.0, gamma=3.0, kernel=rbf; total time=   0.6s\n",
      "[CV] END ....................C=3000.0, gamma=3.0, kernel=rbf; total time=   0.6s\n",
      "[CV] END ....................C=3000.0, gamma=3.0, kernel=rbf; total time=   0.6s\n"
     ]
    },
    {
     "data": {
      "text/plain": [
       "GridSearchCV(cv=5, estimator=SVR(),\n",
       "             param_grid=[{'C': [10.0, 30.0, 100.0, 300.0, 1000.0, 3000.0,\n",
       "                                10000.0, 30000.0],\n",
       "                          'kernel': ['linear']},\n",
       "                         {'C': [300.0, 1000.0, 1500.0, 2000.0, 3000.0],\n",
       "                          'gamma': [0.01, 0.03, 0.1, 0.3, 1.0, 3.0],\n",
       "                          'kernel': ['rbf']}],\n",
       "             scoring='neg_mean_squared_error', verbose=2)"
      ]
     },
     "execution_count": 96,
     "metadata": {},
     "output_type": "execute_result"
    }
   ],
   "source": [
    "from sklearn.model_selection import GridSearchCV\n",
    "\n",
    "param_grid = [\n",
    "        {'kernel': ['linear'], 'C': [10., 30., 100., 300., 1000., 3000., 10000., 30000.0]},\n",
    "        {'kernel': ['rbf'], 'C': [300., 1000.0, 1500.0, 2000.0, 3000.0,],\n",
    "         'gamma': [0.01, 0.03, 0.1, 0.3, 1.0, 3.0]},\n",
    "    ]\n",
    "\n",
    "svm_reg = SVR()\n",
    "grid_search = GridSearchCV(svm_reg, param_grid, cv=5, scoring='neg_mean_squared_error', verbose=2)\n",
    "grid_search.fit(housing_prepared, housing_explore_labels)"
   ]
  },
  {
   "cell_type": "code",
   "execution_count": 97,
   "metadata": {},
   "outputs": [
    {
     "data": {
      "text/plain": [
       "65458.13363529276"
      ]
     },
     "execution_count": 97,
     "metadata": {},
     "output_type": "execute_result"
    }
   ],
   "source": [
    "negative_mse = grid_search.best_score_\n",
    "rmse = np.sqrt(-negative_mse)\n",
    "rmse"
   ]
  },
  {
   "cell_type": "code",
   "execution_count": 100,
   "metadata": {},
   "outputs": [
    {
     "data": {
      "text/plain": [
       "{'C': 3000.0, 'gamma': 0.1, 'kernel': 'rbf'}"
      ]
     },
     "execution_count": 100,
     "metadata": {},
     "output_type": "execute_result"
    }
   ],
   "source": [
    "grid_search.best_params_"
   ]
  }
 ],
 "metadata": {
  "interpreter": {
   "hash": "4d9c34ed9f39c4287d22983c11f197ee4480d09995280608a32241ffe4ea11dc"
  },
  "kernelspec": {
   "display_name": "Python [conda env:handson_ml]",
   "language": "python",
   "name": "conda-env-handson_ml-py"
  },
  "language_info": {
   "codemirror_mode": {
    "name": "ipython",
    "version": 3
   },
   "file_extension": ".py",
   "mimetype": "text/x-python",
   "name": "python",
   "nbconvert_exporter": "python",
   "pygments_lexer": "ipython3",
   "version": "3.9.7"
  },
  "orig_nbformat": 4
 },
 "nbformat": 4,
 "nbformat_minor": 2
}
